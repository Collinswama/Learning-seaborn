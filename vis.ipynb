
import pandas as pd
import seaborn as sns

df = sns.load_dataset("tips")
df

sns.pairplot(df, hue= "sex")

print(sns.get_dataset_names())

import pandas as pd
new_dataset = pd.read_csv("https://raw.githubusercontent.com/Kanka-max/seaborn-data/master/titanic.csv")
new_dataset

new_dataset.head(10)

print(sns.get_dataset_names())

## style and themes
# // set_style()
# darkgrid
# whitegrid
# dark
# white
# tick(if need be)

## // sns.load_dataset() uploading a dataset, whose names goes into the parenthesis

tips = sns.load_dataset("tips")

# set styles
sns.set_style("darkgrid")

# plot the data
## always remember to refer to the actual data, // data = 
sns.stripplot(data = tips, x = "day", y = "total_bill", hue = "smoker")

# allows us to see the different values
tips.time.value_counts()

## relational plots
from seaborn.relational import scatterplot

#-relplot
#- scatterplot - possiblity of several semantic grouping
#-lineplot - possiblity of several groupings

# col (only for relplot)
sns.relplot(data =  tips, x ='total_bill', y = "tip", hue = "day", col = "time" )

sns.lineplot(data = tips, x = "total_bill", y = "tip")

# trend, seasonality and noise
# trend the consisitent observation
# seasonality difference between perios
# noise what lies between trend and seasonality

# distplot() -interfacing- facegrid
# ecdfplot() cumulative distribution
# histplot()   frequency
# rugplotmarginal distribution
#, kdeplot()kernel density estimation


# normal distribution - gaussian distribution
# exponnetial distribution
# binomial distribution
# uniform distribution



## distribution plots for analysis of a single column

penguins = sns.load_dataset("penguins")
penguins
penguins.dtypes

sns.displot(data = penguins, x ="body_mass_g")\
## y axis is not defined in the code because it is accounted for by frequency/ count

sns.displot(data = penguins, x = "bill_length_mm")

sns.histplot(data = penguins, x = "flipper_length_mm")

sns.kdeplot(data = penguins, x = "bill_length_mm")

sns.displot(data  =penguins, x = "bill_length_mm")

# cataegorical plots
##catplot() -unterfacing categorial plots
##stripplot() -one variable must be a categorical variable/feature 
##swarmplot() -categorical scatterplot with non-overlapping points
##boxplot() - shows ditributions with respect to categories
##violinplot() - combination of boxplot and kernel density estimate
##barplot() - estimate the confidence levels as rectangular bars
##pointplot() - estimate confidence levesl using scatter plots

exercize = sns.load_dataset("exercise")
exercize

sns.catplot(data = exercize, x= "time", y = "pulse", hue = "kind")

exercize.describe()

# boxplots are used in outlier/anomaly/fraud detection
# inter-quartile ranges IQR (upper_quartile-lower_quartile)

sns.boxplot(data = tips, x ="total_bill")

sns.boxplot(data = exercize, x = "pulse")

# barplot()
sns.barplot(data = tips, x= "day", y = "total_bill", hue = "smoker", palette = "Greens", orient = "v", saturation = 1 )

sns.barplot(data = tips, x = "total_bill", y = "day", hue = "day", palette= "Spectral_r", orient = "h", saturation = 1.2)

